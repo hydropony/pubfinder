{
 "cells": [
  {
   "cell_type": "code",
   "execution_count": 16,
   "id": "1a2f0dd8-0caf-4728-9d0d-c6192e7b5d36",
   "metadata": {},
   "outputs": [],
   "source": [
    "import pandas as pd\n",
    "import string\n",
    "import re\n",
    "\n",
    "df = pd.read_json('Helsinki_pubs_reviews.json')\n",
    "\n",
    "# df\n",
    "\n",
    "stoplist = []\n",
    "with open(\"stopwords-en.txt\", \"r\") as file:\n",
    "    for word in file:\n",
    "        stoplist.append(word.rstrip(word[-1]))\n",
    "\n",
    "# print(df.size)\n",
    "newreviewscolumn = []\n",
    "for row, line in df.iterrows():\n",
    "    newrevs = []\n",
    "    if line['reviews']:\n",
    "        for review in line['reviews']:\n",
    "            curr = review.lower()\n",
    "            curr = curr.translate(curr.maketrans('', '', string.punctuation)) # removing punctuation\n",
    "            curr = re.sub(r'\\d+', '', curr)\n",
    "            curr = re.sub(r'[^\\w\\s]', '', curr)\n",
    "            newrev = ''\n",
    "            for word in curr.split():\n",
    "                if word not in stoplist:\n",
    "                    newrev = newrev + ' ' + word\n",
    "            newrevs.append(newrev)\n",
    "    newreviewscolumn.append(newrevs)\n",
    "    # break\n",
    "df['reviews'] = newreviewscolumn\n"
   ]
  },
  {
   "cell_type": "code",
   "execution_count": 17,
   "id": "7ad89b14-bbda-4711-8e37-c89912b7cbe9",
   "metadata": {},
   "outputs": [
    {
     "name": "stdout",
     "output_type": "stream",
     "text": [
      "[' great place individuals small groups looking place meet afternoon start night end evening', ' fun place stumbled chance just looking bar shots vodka party nice surprise spent nights helsinki dance event dance nights prepped bar', ' great place quick shots really nice combination staff really nice welcoming', ' spin wheel shot super cool small cozy shot station cocktails breathtaking amazing staff feels welcome', ' drinks perfect ida amazing art new friend love concept variety drinks makes drinks really cool bar awesome playlist highly recommended', ' fun little shot bar heart helsinki quiet night attended service amazing spin wheel determine shot gave wheel spins birthday friendly staff spoke english', ' great want shots amazing selection delicious fun fun perk night place youll spend night id suggest getting tray tasty heading night clubbing', ' rudest service kicked reason earlier closed needed clean pub group polite people properly say goodbye waitress screaming calling bad words shocked knew possible finland', ' perfect dive bar called shot bar reason place felt like throwback early s eclectic decor music choices excellent service mixed crowd having fun', ' huge selection shots fast friendly service perfect', ' told politely minutes closing finish drinks leave asap minutes closing lady started shouting needs clean place leave', ' owner amazing place warm friendly atmosphere best espresso martini life bar awesome cocktails shots', ' great bar good beer nice music', ' absolutely best bar town visit place everytime youre town various different shots coctails served exellent atmosphere', ' fun place cocktails delicious summer twist good recommend music catchy bit hard talk yell heard oh bartender lass nice', ' spin wheel shot nice bartender', ' great shots taste looks important nice cozy interior nice staff', ' like idea shot bar people wandering city center visiting bars cases similar bit different premises quite small hardly place evening', ' good service good shots funny shot wheel contribute good atmosphere', ' interesting concept didnt shots special', ' johanna best bar tender personable gives reason live helsinki orgasm', ' good shot bar helsinki large variety shotsdrinks available', ' wheel random shots lot fun especially bar tender offers spin sympathy alien brain hemorrhage looks amazing taste matter', ' amazing place great drinks great vibe just', ' fun place great selection shots prices reasonable shot spinning wheel pretty cool paddle shots check', ' perfect place start night group great service big selection good location small space remember spin wheel', ' surprisingly interesting different shots good location friendly staff small place really quickly', ' best place startend party helsinki hundreds different shots unlucky wheel highlights', ' fun shots great location usually great house music bit expensive thats expected heart helsinki', ' awesome staff decent prices good shots dont spin shotwheel really helsinki', ' nice shots fair price helsinki good selection shots different mixtures', ' nice small place maybe small big group', ' good service great conversations', ' great variety fun tasty shots lot fun', ' good vibe fun place great bartender younger crowd think worth drop taste bartenders creations', ' theres choices prices e like shots youll love place', ' loved d place great music fun shots spinning wheel choose shots pretty exciting huge range shots great ambience', ' nice place chill', ' cosy nice place', ' bit dindgy music super loud stay', ' definitely good place honestly time time visit', ' small cramped area slightly priced drinks staff unpleasant rude reccoment place', ' great customer service positive feeling good shots b way', ' lots fun great staff crazy drinks', ' great place bit expensive small space great groups friends', ' love atmosphere ive bar specializes shots great time', ' great place hammered remember carry sense humour visit place', ' lovely cocktails shots', ' weird shot bar center helsinki feels like walking mediterranean local youth club', ' jest want say hi beautiful hungarian giro works bar', ' pretty small worth visit', ' epic shot wheel great customer service huge variety shots plus', ' amazing service great drinks love wheel', ' best place quick drink lots variety shots try', ' really great cozy place delicious shots', ' cocktails delicious big price', ' great place drinks little small', ' shots like really stocked frat party', ' great vibe great drinks', ' fun dive bar shots choose', ' stocked small bar downtown helsinki', ' centre different lot rasiste', ' cheap shots great variety friendly bartender', ' cheapish shots small place okay vibe', ' super', ' friendly staff quiet', ' good shot bar choice', ' magic shot', ' smol walls covered old printed memes', ' small place big alcohol']\n"
     ]
    }
   ],
   "source": [
    "print(df['reviews'][0])"
   ]
  },
  {
   "cell_type": "code",
   "execution_count": 18,
   "id": "b399992c",
   "metadata": {},
   "outputs": [],
   "source": [
    "# stemming\n",
    "from nltk.stem import *\n",
    "stemmer = PorterStemmer()\n",
    "newreviewscolumn = []\n",
    "for row, line in df.iterrows():\n",
    "  # print(line)\n",
    "  newrevs = []\n",
    "  if line['reviews']:\n",
    "    for review in line['reviews']:\n",
    "      newreview = ''\n",
    "      for word in review.split():\n",
    "        newreview = newreview + \" \" + stemmer.stem(word) \n",
    "      newrevs.append(newreview)\n",
    "  newreviewscolumn.append(newrevs)\n",
    "df['reviews'] = newreviewscolumn\n"
   ]
  },
  {
   "cell_type": "code",
   "execution_count": 19,
   "id": "bd318b3c",
   "metadata": {},
   "outputs": [
    {
     "name": "stdout",
     "output_type": "stream",
     "text": [
      "[' love kaurismäki vibe doesnt', ' good place play snooker billiard like tabl cost hour gonlat hour mayb littl bit expens realli good place perfect condit', ' ive play pool just drink time nice relax cult classic venu rumour close point near futur make visit soon', ' good place seat talk friend tabl play game snooker tabl price doubl pm', ' went coupl friend pretti nice place play pool food decent enjoy nice drink outsid smoke nice plu', ' corona bar close just step steet bueno air cafe bar owner team includ director mika kaurismaki', ' legendari pool bar close door summer visit late enjoy great atmospher', ' judg book cover realli clean excel coffe beer pool tabl hour ok price', ' popular place helsinki realli dont recomnend summer smoke terrac larg cloud smoke place nice', ' premis larg pool tabl bar spaciou old factori hall suit purpos renov nice way minimalist comfort high chair tram line number pass place stop just bar entranc', ' space alright staff cold abras bit rude play pool friend pool guy kept come rudli warn lean tabl use stick just triangl', ' told own aki kaurismäki poster movi insid supposedli want bar remain way bar soviet union era doe specif atmospher refurbish', ' long time favourit classic bar chang perman pub cultur finland guin draughtalway good place', ' nice billiard tabl play custom sat barstool billiard tabl tri search pocket peopl watch', ' old classic konepaja relax atmospher refer movi make background owner fair collect beer can bottl basic stuff tap', ' best pool tabl helsinki guin tap', ' cater there billiard sandwich servic finnish direct extra smile artsi peopl kind classic', ' good relax atmospher good servic good choic tap irish coffe good', ' great locat center helsinki lot pool tabl snooker tabl tabl charg hourli rate', ' friendli staff diamond pool tabl nice touch notic clean tabl cue player', ' pool tabl decent bar overal lot peopl love peopl bar downstair', ' nice pool tabl busi weekend there movi theater downstair show indi flick involv film festiv', ' cool place plenti diamond pool tabl kept great shape super friendli staff', ' roomi place live room vibe pool tabl wide varieti drink', ' great place hang pool tabl nice clean staff nice option soft drink recommend', ' happen go like biljard lot place', ' big thank staff corona help use intern borrow umbrella septemb come late night v apartemen prahadi', ' bar famou owner great spot play pool your look place trendi interest crowd', ' nice bar beer shoot pool lot tabl profession english man manag', ' place charact nice smooth pooltabl tabl bar usual hard seat', ' play pool tabl clean good condit like music soft familiar cozi', ' drink fine play billiard interior date cozi unfortun', ' pretti maintain pool snooker tabl basic drink select bar snack avail price ok', ' good tast basic solut thirst hunger good billiard tabl', ' dont tear place fun good beer pool shame wont long', ' good pool tabl standard price crowd weekend peopl', ' plain rude servic billiard bar mayb have bad day mayb do like foreign dont care im com', ' nice place shot sparkl wine usual need queue play pool', ' classic bar helsinki beer billiard nice crowd', ' cool place beer there lot pool tabl hour', ' great place billiard pool tabl realli nice bar', ' lot peopl think famou bar', ' great place nice pool tabl got good time friend staff friendli', ' cool bar own kaurismäki brother good beer game pool', ' good warm terrac beer option realli limit standard beer', ' best end saga continu', ' like billiard', ' nice place play pool drink beer super easi go', ' pool tabl friendli staff industri cozi atmospher', ' good place beer play pool chill', ' get good day legandari corona bar', ' bit differ origin spirit stilö', ' nice bar mindblow just pleasant atmospher', ' good pool tabl good beer worst music chanc chang', ' good beer select good sandwich bad servic rude intent slow', ' cosi relax bohemian place enjoy drink music cours billiard', ' excel balanc biljard beer', ' ok place dring guin enjoy cigar', ' old bar vintag feel infrastructur need improv', ' good servic nice pooltabl beer what like', ' great place play fast servic', ' nice atmospher look tabl', ' afford drink nice atmospher', ' legendari bar own kaurismäki brother', ' best pool tabl helsinki', ' nice place good select beer', ' nice place lot tabl', ' good select beer great barman', ' great play pool that', ' place grab pint play pool', ' best place snooker pool', ' lot great qualiti billiard tabl', ' old school bar bohem feel', ' classic cultur spot snooker tabl drink', ' loud dirti kind authent guess', ' good bar friendli staff', ' beer cheaper billiard', ' old friend good guiness', ' effortlessli cozi', ' billiard beer cool place']\n"
     ]
    }
   ],
   "source": [
    "print(df['reviews'][332])"
   ]
  },
  {
   "cell_type": "code",
   "execution_count": 20,
   "id": "8c5ff52e",
   "metadata": {},
   "outputs": [],
   "source": [
    "df.to_json('Helsinki_pubs_reviews_preprocessed')"
   ]
  },
  {
   "cell_type": "code",
   "execution_count": null,
   "id": "2e112c75",
   "metadata": {},
   "outputs": [],
   "source": []
  }
 ],
 "metadata": {
  "kernelspec": {
   "display_name": "venv",
   "language": "python",
   "name": "python3"
  },
  "language_info": {
   "codemirror_mode": {
    "name": "ipython",
    "version": 3
   },
   "file_extension": ".py",
   "mimetype": "text/x-python",
   "name": "python",
   "nbconvert_exporter": "python",
   "pygments_lexer": "ipython3",
   "version": "3.12.5"
  }
 },
 "nbformat": 4,
 "nbformat_minor": 5
}
